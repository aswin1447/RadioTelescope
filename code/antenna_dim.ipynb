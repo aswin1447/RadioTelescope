{
 "cells": [
  {
   "cell_type": "code",
   "execution_count": 2,
   "metadata": {},
   "outputs": [],
   "source": [
    "from scipy.optimize import brentq\n",
    "import matplotlib.pyplot as plt\n",
    "import numpy as np\n",
    "\n",
    "GdB=20 #gain in deciBel\n",
    "\n",
    "G=10**(GdB/10) \n",
    "\n",
    "la=21  #wavelength\n",
    "a=16.9\n",
    "b=10.5\n",
    "\n",
    "#a=la/2 #waveguide dimensions\n",
    "#b=la/2.5 \n",
    "\n",
    "pred= G/(2*np.pi*np.sqrt(2*np.pi))  # a naive prediction for x\n",
    "\n",
    "\n",
    "\n",
    "\n",
    "\n",
    "\n",
    "\n",
    "\n"
   ]
  },
  {
   "cell_type": "code",
   "execution_count": 3,
   "metadata": {},
   "outputs": [
    {
     "data": {
      "image/png": "[encoded data removed]",
      "text/plain": [
       "<Figure size 432x288 with 1 Axes>"
      ]
     },
     "metadata": {},
     "output_type": "display_data"
    }
   ],
   "source": [
    "\n",
    "\n",
    "\n",
    "def re(x):\n",
    "    RE=x*la\n",
    "    B=np.sqrt(2*la*RE)\n",
    "    return RE*(B-b)/B\n",
    "\n",
    "def rh(x):\n",
    "    RH=(G**2/(8*np.pi**3)*(la/x))\n",
    "    A=np.sqrt(3*la*RH)\n",
    "    \n",
    "    return RH*(A-a)/A\n",
    "    \n",
    "xs= np.linspace(pred-2, pred+2, 1000000)\n",
    "g=re(xs)\n",
    "h=rh(xs)\n",
    "plt.plot(xs, g)\n",
    "plt.plot(xs, h)\n",
    "\n",
    "\n",
    "idx =  np.argwhere(np.diff(np.sign(g-h)) != 0)\n",
    "\n",
    "#x=float(xs[idx[0]])"
   ]
  },
  {
   "cell_type": "code",
   "execution_count": 4,
   "metadata": {},
   "outputs": [
    {
     "data": {
      "text/plain": [
       "array([[6.19886944]])"
      ]
     },
     "execution_count": 4,
     "metadata": {},
     "output_type": "execute_result"
    }
   ],
   "source": [
    "xs[idx]"
   ]
  },
  {
   "cell_type": "code",
   "execution_count": 5,
   "metadata": {},
   "outputs": [
    {
     "data": {
      "text/plain": [
       "6.349363593424098"
      ]
     },
     "execution_count": 5,
     "metadata": {},
     "output_type": "execute_result"
    }
   ],
   "source": [
    "pred"
   ]
  },
  {
   "cell_type": "code",
   "execution_count": 6,
   "metadata": {
    "scrolled": true
   },
   "outputs": [
    {
     "name": "stdout",
     "output_type": "stream",
     "text": [
      "6.198869442929947 111.69078622095942 111.69089448705473\n"
     ]
    }
   ],
   "source": [
    "x=float(xs[idx])\n",
    "\n",
    "RE=x*la\n",
    "\n",
    "RH=(G**2/(8*np.pi**3)*(la/x))\n",
    "\n",
    "A=np.sqrt(3*la*RH)\n",
    "\n",
    "B=np.sqrt(2*la*RE)\n",
    "\n",
    "rE=RE*(B-b)/B\n",
    "\n",
    "rH=RH*(A-a)/A\n",
    "    \n",
    "print(x,rE,rH)\n",
    "    \n",
    "\n"
   ]
  },
  {
   "cell_type": "code",
   "execution_count": 8,
   "metadata": {},
   "outputs": [],
   "source": [
    "theta_e=np.arctan(0.5*B/(RE))\n",
    "theta_h=np.arctan(0.5*A/RH)"
   ]
  },
  {
   "cell_type": "code",
   "execution_count": 14,
   "metadata": {},
   "outputs": [
    {
     "data": {
      "text/plain": [
       "15.854907617624914"
      ]
     },
     "execution_count": 14,
     "metadata": {},
     "output_type": "execute_result"
    }
   ],
   "source": [
    "theta_e*180/np.pi"
   ]
  },
  {
   "cell_type": "code",
   "execution_count": 18,
   "metadata": {},
   "outputs": [
    {
     "data": {
      "text/plain": [
       "18.757045264272584"
      ]
     },
     "execution_count": 18,
     "metadata": {},
     "output_type": "execute_result"
    }
   ],
   "source": [
    "theta_h*180/np.pi"
   ]
  },
  {
   "cell_type": "code",
   "execution_count": null,
   "metadata": {},
   "outputs": [],
   "source": []
  }
 ],
 "metadata": {
  "kernelspec": {
   "display_name": "Python 3",
   "language": "python",
   "name": "python3"
  },
  "language_info": {
   "codemirror_mode": {
    "name": "ipython",
    "version": 3
   },
   "file_extension": ".py",
   "mimetype": "text/x-python",
   "name": "python",
   "nbconvert_exporter": "python",
   "pygments_lexer": "ipython3",
   "version": "3.6.9"
  }
 },
 "nbformat": 4,
 "nbformat_minor": 2
}
